{
 "cells": [
  {
   "cell_type": "code",
   "execution_count": 7,
   "metadata": {},
   "outputs": [
    {
     "name": "stdout",
     "output_type": "stream",
     "text": [
      "The autoreload extension is already loaded. To reload it, use:\n",
      "  %reload_ext autoreload\n"
     ]
    }
   ],
   "source": [
    "%load_ext autoreload\n",
    "%autoreload 2\n",
    "from utils.plotting import get_colors, load_config, plot\n",
    "from utils.data_handling import load_dqn_data\n",
    "import numpy as np"
   ]
  },
  {
   "cell_type": "markdown",
   "metadata": {},
   "source": [
    "#### Name explanations\n",
    "* DQN -> standard DQN\n",
    "* DAR_min^max -> Dynamic action repetition with small repetition and long repetition values\n",
    "* tqn -> TempoRL DQN with separate skip-DQN that expects the behaviour action to be concatenated to the state\n",
    "* t-dqn -> TempoRL DQN with separate skip-DQN that expects the behaviour action as contextual input\n",
    "* tdqn -> TempoRL DQN with shared state representation between the behavoiur and skip action outputs."
   ]
  },
  {
   "cell_type": "code",
   "execution_count": 8,
   "metadata": {},
   "outputs": [],
   "source": [
    "import json\n",
    "import glob\n",
    "import os\n",
    "import pandas as pd\n",
    "from matplotlib import pyplot as plt\n",
    "import seaborn as sb\n",
    "\n",
    "from scipy.signal import savgol_filter\n",
    "    \n",
    "\n",
    "# Somehow the plotting functionallity I ended up with was already covered for the tabular case.\n",
    "# I should have just used the plot function from that.\n",
    "def plotMultiple(data, ylim=None, title='', logStepY=False, max_steps=200, xlim=None, figsize=None,\n",
    "                 alphas=None, smooth=5, savename=None, rewyticks=None, lenyticks=None,\n",
    "                 skip_stdevs=[], dont_label=[], dont_plot=[]):\n",
    "    \"\"\"\n",
    "    Simple plotting method that shows the test reward on the y-axis and the number of performed training steps\n",
    "    on the x-axis.\n",
    "    \n",
    "    data -> (dict[agent name] -> list([rewards, lens, decs, train_steps, train_episodes])) the data to plot\n",
    "    ylim -> (list) y-axis limit\n",
    "    title -> (str) title on top of plot\n",
    "    logStepY -> (bool) flag that indicates if the y-axis should be on log scale.\n",
    "    max_steps -> (int) maximal episode length\n",
    "    xlim -> (list) x-axis limits\n",
    "    figsize -> (list) dimensions of the figure\n",
    "    alphas -> (dict[agent name] -> float) the alpha value to use for plotting of specific agents\n",
    "    smooth -> (int) the window size for smoothing (has to be odd if used. < 0 deactivates this option)\n",
    "    savename -> (str) filename to save the figure\n",
    "    rewyticks -> (list) yticks for the reward plot\n",
    "    lenyticks -> (list) yticks for the decisions plot\n",
    "    skip_sdevs -> (list) list of names to not plot standard deviations for.\n",
    "    dont_label -> (list) list of names to not label.\n",
    "    dont_plot -> (list) list of names to not plot.\n",
    "    \"\"\"\n",
    "    \n",
    "    if smooth and smooth > 0:\n",
    "        degree = 2\n",
    "        for agent in data:\n",
    "            data[agent] = list(data[agent])  # we have to convert the tuple to lists\n",
    "            data[agent][0] = list(data[agent][0])\n",
    "            data[agent][0][0] = savgol_filter(data[agent][0][0], smooth, degree)  # smooth the mean reward\n",
    "            data[agent][0][1] = savgol_filter(data[agent][0][1], smooth, degree)  # smooth the stdev reward\n",
    "            data[agent][1] = list(data[agent][1])\n",
    "            data[agent][1][0] = savgol_filter(data[agent][1][0], smooth, degree)  # smooth mean num steps\n",
    "            data[agent][1][1] = savgol_filter(data[agent][1][1], smooth, degree)\n",
    "            data[agent][2] = list(data[agent][2])\n",
    "            data[agent][2][0] = savgol_filter(data[agent][2][0], smooth, degree)  # smooth mean decisions\n",
    "            data[agent][2][1] = savgol_filter(data[agent][2][1], smooth, degree)\n",
    "\n",
    "    colors, color_map = get_colors()\n",
    "    \n",
    "\n",
    "    cfg = load_config()\n",
    "    sb.set_style(cfg['plotting']['seaborn']['style'])\n",
    "    sb.set_context(cfg['plotting']['seaborn']['context']['context'],\n",
    "                   font_scale=cfg['plotting']['seaborn']['context']['font scale'],\n",
    "                   rc=cfg['plotting']['seaborn']['context']['rc2'])\n",
    "\n",
    "    if figsize:\n",
    "        fig, ax = plt.subplots(2, figsize=figsize, dpi=100, sharex=True)\n",
    "    else:\n",
    "        fig, ax = plt.subplots(2, figsize=(20, 10), dpi=100,sharex=True)\n",
    "    ax[0].set_title(title)\n",
    "\n",
    "    for agent in list(data.keys())[::-1]:\n",
    "        if agent in dont_plot:\n",
    "            continue\n",
    "        try:\n",
    "            alph = alphas[agent]\n",
    "        except:\n",
    "            alph = 1.\n",
    "        color_name = None\n",
    "        if 'dar' in agent:\n",
    "            color_name = color_map['dar']\n",
    "        elif agent.startswith('t'):\n",
    "            color_name = color_map['t-dqn']\n",
    "        else:\n",
    "            color_name = color_map[agent]\n",
    "        rew, lens, decs, train_steps, train_eps = data[agent]\n",
    "        \n",
    "        label = agent.upper()\n",
    "        if agent.startswith('t'):\n",
    "            label = 't-DQN'\n",
    "        elif agent in dont_label:\n",
    "            label = None\n",
    "\n",
    "        #### Plot rewards\n",
    "        ax[0].step(train_steps[0][::5], rew[0][::5], where='post', c=colors[color_name], label=label,\n",
    "                   alpha=alph)\n",
    "        if agent not in skip_stdevs:\n",
    "            ax[0].fill_between(train_steps[0][::5], rew[0][::5]-rew[1][::5], rew[0][::5]+rew[1][::5], alpha=0.25 * alph, step='post',\n",
    "                               color=colors[color_name])\n",
    "        #### Plot lens\n",
    "        ax[1].step(train_steps[0], decs[0], where='post', c=np.array(colors[color_name]), ls='-',\n",
    "                   alpha=alph)\n",
    "        if agent not in skip_stdevs:\n",
    "            ax[1].fill_between(train_steps[0][::5], decs[0][::5]-decs[1][::5], decs[0][::5]+decs[1][::5], alpha=0.125 * alph, step='post',\n",
    "                               color=np.array(colors[color_name]))\n",
    "        ax[1].step(train_steps[0][::5], lens[0][::5], where='post',\n",
    "                   c=np.array(colors[color_name]) * .75, alpha=alph, ls=':')\n",
    "        \n",
    "        if agent not in skip_stdevs:\n",
    "            ax[1].fill_between(train_steps[0][::5], lens[0][::5]-lens[1][::5], lens[0][::5]+lens[1][::5], alpha=0.25 * alph, step='post',\n",
    "                               color=np.array(colors[color_name]) * .75)\n",
    "    ax[0].semilogx()\n",
    "    if rewyticks is not None:\n",
    "        ax[0].set_yticks(rewyticks)\n",
    "    if ylim:\n",
    "        ax[0].set_ylim(ylim)\n",
    "    if xlim:\n",
    "        ax[0].set_xlim(xlim)\n",
    "    ax[0].set_ylabel('Reward')\n",
    "    if len(data) - len(dont_label) < 5:\n",
    "        ax[0].legend(ncol=1, loc='best', handlelength=.75)\n",
    "    ax[1].semilogx()\n",
    "    if logStepY:\n",
    "        ax[1].semilogy()\n",
    "        \n",
    "    ax[1].plot([-999, -999], [-999, -999], ls=':', c='k', label='all')\n",
    "    ax[1].plot([-999, -999], [-999, -999], ls='-', c='k', label='dec')\n",
    "    ax[1].legend(loc='best', ncol=1, handlelength=.75)\n",
    "    ax[1].set_ylim([1, max_steps])\n",
    "    if xlim:\n",
    "        ax[1].set_xlim(xlim)\n",
    "    ax[1].set_ylabel('#Actions')\n",
    "    ax[1].set_xlabel('#Train Steps')\n",
    "    if lenyticks is not None:\n",
    "        ax[1].set_yticks(lenyticks)\n",
    "    plt.tight_layout()\n",
    "    if savename:\n",
    "        plt.savefig(savename)\n",
    "\n",
    "    plt.show()\n",
    "\n",
    "\n",
    "def get_best_to_plot(data, aucs, tempoRL=None):\n",
    "    \"\"\"\n",
    "    Simple method to filter which lines to plot.\n",
    "    \"\"\"\n",
    "    to_plot = dict()\n",
    "\n",
    "    if tempoRL is None:\n",
    "        aucs = list(sorted(aucs, key=lambda x: x[1], reverse=True))\n",
    "        for idx, auc in enumerate(aucs):\n",
    "            if 't' in auc[0]:\n",
    "                break\n",
    "        to_plot[aucs[idx][0]] = data[aucs[idx][0]]  # the absolute best\n",
    "    else:\n",
    "        to_plot[tempoRL] = data[tempoRL]\n",
    "\n",
    "    bv = -np.inf\n",
    "    b = None\n",
    "    for elem in aucs:\n",
    "        if 'dar' not in elem[0]:\n",
    "            continue\n",
    "        elif elem[1] > bv:\n",
    "            b, bv = elem[0], elem[1]\n",
    "    to_plot[b] = data[b]\n",
    "    \n",
    "    \n",
    "    to_plot['dqn'] = data['dqn']\n",
    "    print('Only plotting:', list(to_plot.keys()))\n",
    "    return to_plot"
   ]
  },
  {
   "cell_type": "markdown",
   "metadata": {},
   "source": [
    "<BR><BR><BR><BR><BR><BR><BR><BR><BR><BR><BR><BR>"
   ]
  },
  {
   "cell_type": "code",
   "execution_count": 12,
   "metadata": {
    "scrolled": false
   },
   "outputs": [
    {
     "name": "stdout",
     "output_type": "stream",
     "text": [
      "C:\\Users\\mqr12\\Desktop\\TempoRL-master\\experiments\\featurized_results\\sparsemountain\\dar_orig_0_1\\*\\eval_scores.json\n",
      "C:\\Users\\mqr12\\Desktop\\TempoRL-master\\experiments\\featurized_results\\sparsemountain\\dar_orig_0_3\\*\\eval_scores.json\n",
      "C:\\Users\\mqr12\\Desktop\\TempoRL-master\\experiments\\featurized_results\\sparsemountain\\dar_orig_0_5\\*\\eval_scores.json\n",
      "C:\\Users\\mqr12\\Desktop\\TempoRL-master\\experiments\\featurized_results\\sparsemountain\\dar_orig_0_7\\*\\eval_scores.json\n",
      "C:\\Users\\mqr12\\Desktop\\TempoRL-master\\experiments\\featurized_results\\sparsemountain\\dar_orig_0_9\\*\\eval_scores.json\n",
      "C:\\Users\\mqr12\\Desktop\\TempoRL-master\\experiments\\featurized_results\\sparsemountain\\dqn\\*\\eval_scores.json\n"
     ]
    },
    {
     "ename": "TypeError",
     "evalue": "'numpy.float64' object is not iterable",
     "output_type": "error",
     "traceback": [
      "\u001b[1;31m---------------------------------------------------------------------------\u001b[0m",
      "\u001b[1;31mTypeError\u001b[0m                                 Traceback (most recent call last)",
      "\u001b[1;32m<ipython-input-12-d6de5c3285b5>\u001b[0m in \u001b[0;36m<module>\u001b[1;34m\u001b[0m\n\u001b[0;32m     22\u001b[0m                                             )\n\u001b[0;32m     23\u001b[0m mountain_sparse_aucs.append(['dqn', np.trapz((mountain_sparse_data['dqn'][0][0] + 200)/110,\n\u001b[1;32m---> 24\u001b[1;33m                                   x=(mountain_sparse_data['dqn'][3][0]/max(\n\u001b[0m\u001b[0;32m     25\u001b[0m                                       mountain_sparse_data['dqn'][3][0])))])\n\u001b[0;32m     26\u001b[0m \u001b[1;33m\u001b[0m\u001b[0m\n",
      "\u001b[1;31mTypeError\u001b[0m: 'numpy.float64' object is not iterable"
     ]
    }
   ],
   "source": [
    "mountain_sparse_data = {}\n",
    "mountain_sparse_alphas = {}\n",
    "mountain_sparse_aucs = []\n",
    "max_steps=10**6\n",
    "thresh = -110\n",
    "\n",
    "for pairs in [(0, 1), (0, 3), (0, 5), (0, 7), (0, 9)]:\n",
    "    dar_fm_str = r'$dar_{' + '{}'.format(pairs[0] + 1) + '}^{' + '{}'.format(pairs[1] + 1) + '}$'\n",
    "    mountain_sparse_alphas[dar_fm_str] = 1/5\n",
    "    mountain_sparse_data[dar_fm_str] = load_dqn_data(\n",
    "        '*', 'experiments/featurized_results/sparsemountain/dar_orig_%d_%d' % (pairs[0], pairs[1]), max_steps=max_steps,\n",
    "        )\n",
    "    try:\n",
    "        mountain_sparse_aucs.append([dar_fm_str, np.trapz((mountain_sparse_data[dar_fm_str][0][0] + 200)/110,\n",
    "                                          x=(mountain_sparse_data[dar_fm_str][3][0]/max(mountain_sparse_data[dar_fm_str][3][0])))])\n",
    "    except:\n",
    "        del mountain_sparse_data[dar_fm_str]\n",
    "\n",
    "\n",
    "\n",
    "mountain_sparse_data['dqn'] = load_dqn_data('*', 'experiments/featurized_results/sparsemountain/dqn', max_steps=max_steps,\n",
    "                                            )\n",
    "mountain_sparse_aucs.append(['dqn', np.trapz((mountain_sparse_data['dqn'][0][0] + 200)/110,\n",
    "                                  x=(mountain_sparse_data['dqn'][3][0]/max(\n",
    "                                      mountain_sparse_data['dqn'][3][0])))])\n",
    "\n",
    "for i in [2, 4, 6, 8, 10]:\n",
    "    mountain_sparse_data['tqn_%d' % i] = load_dqn_data('*', 'experiments/featurized_results/sparsemountain/tqn_%d' % i, max_steps=max_steps,\n",
    "                                                )\n",
    "    mountain_sparse_aucs.append(['tqn_%d' % i, np.trapz((mountain_sparse_data['tqn_%d' % i][0][0] + 200)/110,\n",
    "                                      x=(mountain_sparse_data['tqn_%d' % i][3][0]/max(\n",
    "                                          mountain_sparse_data['tqn_%d' % i][3][0])))])\n",
    "\n",
    "    mountain_sparse_data['t-dqn_%d' % i] = load_dqn_data('*', 'experiments/featurized_results/sparsemountain/t-dqn_%d' % i,\n",
    "                                                  max_steps=max_steps,\n",
    "                                                  )\n",
    "    mountain_sparse_aucs.append(['t-dqn_%d' % i, np.trapz((mountain_sparse_data['t-dqn_%d' % i][0][0] + 200)/110,\n",
    "                                   x=(mountain_sparse_data['t-dqn_%d' % i][3][0]/max(\n",
    "                                       mountain_sparse_data['t-dqn_%d' % i][3][0])))])\n",
    "\n",
    "    mountain_sparse_data['tdqn_%d' % i] = load_dqn_data('*', 'experiments/featurized_results/sparsemountain/tdqn_%d' % i, max_steps=max_steps,\n",
    "                                                 )\n",
    "    mountain_sparse_aucs.append(['tdqn_%d' % i, np.trapz((mountain_sparse_data['tdqn_%d' % i][0][0] + 200)/110,\n",
    "                                   x=(mountain_sparse_data['tdqn_%d' % i][3][0]/max(\n",
    "                                       mountain_sparse_data['tdqn_%d' % i][3][0])))])"
   ]
  },
  {
   "cell_type": "code",
   "execution_count": 10,
   "metadata": {
    "scrolled": false
   },
   "outputs": [
    {
     "ename": "UnboundLocalError",
     "evalue": "local variable 'idx' referenced before assignment",
     "output_type": "error",
     "traceback": [
      "\u001b[1;31m---------------------------------------------------------------------------\u001b[0m",
      "\u001b[1;31mUnboundLocalError\u001b[0m                         Traceback (most recent call last)",
      "\u001b[1;32m<ipython-input-10-dfdc555a3847>\u001b[0m in \u001b[0;36m<module>\u001b[1;34m\u001b[0m\n\u001b[1;32m----> 1\u001b[1;33m \u001b[0mmountain_sparse_plot\u001b[0m \u001b[1;33m=\u001b[0m \u001b[0mget_best_to_plot\u001b[0m\u001b[1;33m(\u001b[0m\u001b[0mmountain_sparse_data\u001b[0m\u001b[1;33m,\u001b[0m \u001b[0mmountain_sparse_aucs\u001b[0m\u001b[1;33m)\u001b[0m\u001b[1;33m\u001b[0m\u001b[1;33m\u001b[0m\u001b[0m\n\u001b[0m\u001b[0;32m      2\u001b[0m \u001b[1;33m\u001b[0m\u001b[0m\n\u001b[0;32m      3\u001b[0m plotMultiple(mountain_sparse_plot, title='MountainCar-v0',\n\u001b[0;32m      4\u001b[0m              \u001b[0mylim\u001b[0m\u001b[1;33m=\u001b[0m\u001b[1;33m[\u001b[0m\u001b[1;33m-\u001b[0m\u001b[1;36m200\u001b[0m\u001b[1;33m,\u001b[0m \u001b[1;33m-\u001b[0m\u001b[1;36m100\u001b[0m\u001b[1;33m]\u001b[0m\u001b[1;33m,\u001b[0m \u001b[0mmax_steps\u001b[0m\u001b[1;33m=\u001b[0m\u001b[1;36m200\u001b[0m\u001b[1;33m,\u001b[0m \u001b[0mxlim\u001b[0m\u001b[1;33m=\u001b[0m\u001b[1;33m[\u001b[0m\u001b[1;36m10\u001b[0m\u001b[1;33m**\u001b[0m\u001b[1;36m3\u001b[0m\u001b[1;33m,\u001b[0m \u001b[1;36m10\u001b[0m\u001b[1;33m**\u001b[0m\u001b[1;36m6\u001b[0m\u001b[1;33m]\u001b[0m\u001b[1;33m,\u001b[0m \u001b[0msmooth\u001b[0m\u001b[1;33m=\u001b[0m\u001b[1;36m11\u001b[0m\u001b[1;33m,\u001b[0m\u001b[1;33m\u001b[0m\u001b[1;33m\u001b[0m\u001b[0m\n\u001b[0;32m      5\u001b[0m              savename='mcv0-sparse.pdf', rewyticks=[-190, -150, -110], lenyticks=[0, 75, 150])\n",
      "\u001b[1;32m<ipython-input-8-41d2346970e6>\u001b[0m in \u001b[0;36mget_best_to_plot\u001b[1;34m(data, aucs, tempoRL)\u001b[0m\n\u001b[0;32m    146\u001b[0m             \u001b[1;32mif\u001b[0m \u001b[1;34m't'\u001b[0m \u001b[1;32min\u001b[0m \u001b[0mauc\u001b[0m\u001b[1;33m[\u001b[0m\u001b[1;36m0\u001b[0m\u001b[1;33m]\u001b[0m\u001b[1;33m:\u001b[0m\u001b[1;33m\u001b[0m\u001b[1;33m\u001b[0m\u001b[0m\n\u001b[0;32m    147\u001b[0m                 \u001b[1;32mbreak\u001b[0m\u001b[1;33m\u001b[0m\u001b[1;33m\u001b[0m\u001b[0m\n\u001b[1;32m--> 148\u001b[1;33m         \u001b[0mto_plot\u001b[0m\u001b[1;33m[\u001b[0m\u001b[0maucs\u001b[0m\u001b[1;33m[\u001b[0m\u001b[0midx\u001b[0m\u001b[1;33m]\u001b[0m\u001b[1;33m[\u001b[0m\u001b[1;36m0\u001b[0m\u001b[1;33m]\u001b[0m\u001b[1;33m]\u001b[0m \u001b[1;33m=\u001b[0m \u001b[0mdata\u001b[0m\u001b[1;33m[\u001b[0m\u001b[0maucs\u001b[0m\u001b[1;33m[\u001b[0m\u001b[0midx\u001b[0m\u001b[1;33m]\u001b[0m\u001b[1;33m[\u001b[0m\u001b[1;36m0\u001b[0m\u001b[1;33m]\u001b[0m\u001b[1;33m]\u001b[0m  \u001b[1;31m# the absolute best\u001b[0m\u001b[1;33m\u001b[0m\u001b[1;33m\u001b[0m\u001b[0m\n\u001b[0m\u001b[0;32m    149\u001b[0m     \u001b[1;32melse\u001b[0m\u001b[1;33m:\u001b[0m\u001b[1;33m\u001b[0m\u001b[1;33m\u001b[0m\u001b[0m\n\u001b[0;32m    150\u001b[0m         \u001b[0mto_plot\u001b[0m\u001b[1;33m[\u001b[0m\u001b[0mtempoRL\u001b[0m\u001b[1;33m]\u001b[0m \u001b[1;33m=\u001b[0m \u001b[0mdata\u001b[0m\u001b[1;33m[\u001b[0m\u001b[0mtempoRL\u001b[0m\u001b[1;33m]\u001b[0m\u001b[1;33m\u001b[0m\u001b[1;33m\u001b[0m\u001b[0m\n",
      "\u001b[1;31mUnboundLocalError\u001b[0m: local variable 'idx' referenced before assignment"
     ]
    }
   ],
   "source": [
    "mountain_sparse_plot = get_best_to_plot(mountain_sparse_data, mountain_sparse_aucs)\n",
    "\n",
    "plotMultiple(mountain_sparse_plot, title='MountainCar-v0',\n",
    "             ylim=[-200, -100], max_steps=200, xlim=[10**3, 10**6], smooth=11,\n",
    "             savename='mcv0-sparse.pdf', rewyticks=[-190, -150, -110], lenyticks=[0, 75, 150])"
   ]
  },
  {
   "cell_type": "code",
   "execution_count": null,
   "metadata": {},
   "outputs": [],
   "source": [
    "list(sorted(mountain_sparse_aucs, key=lambda x: x[1], reverse=True))"
   ]
  },
  {
   "cell_type": "markdown",
   "metadata": {},
   "source": [
    "<BR><BR><BR><BR><BR><BR><BR><BR><BR><BR><BR><BR>"
   ]
  },
  {
   "cell_type": "code",
   "execution_count": 4,
   "metadata": {
    "scrolled": false
   },
   "outputs": [
    {
     "name": "stdout",
     "output_type": "stream",
     "text": [
      "C:\\Users\\mqr12\\Desktop\\TempoRL-master\\experiments\\featurized_results\\moon\\dar_orig_0_1\\*\\eval_scores.json\n"
     ]
    },
    {
     "ename": "TypeError",
     "evalue": "'numpy.float64' object is not iterable",
     "output_type": "error",
     "traceback": [
      "\u001b[1;31m---------------------------------------------------------------------------\u001b[0m",
      "\u001b[1;31mTypeError\u001b[0m                                 Traceback (most recent call last)",
      "\u001b[1;32m<ipython-input-4-2a1ade99b035>\u001b[0m in \u001b[0;36m<module>\u001b[1;34m\u001b[0m\n\u001b[0;32m     12\u001b[0m         )\n\u001b[0;32m     13\u001b[0m     moon_dense_aucs.append([dar_fm_str, np.trapz((moon_dense_data[dar_fm_str][0][0] + 250) / 500,\n\u001b[1;32m---> 14\u001b[1;33m                                       x=(moon_dense_data[dar_fm_str][3][0]/max(\n\u001b[0m\u001b[0;32m     15\u001b[0m                                           moon_dense_data[dar_fm_str][3][0])))])\n\u001b[0;32m     16\u001b[0m \u001b[1;33m\u001b[0m\u001b[0m\n",
      "\u001b[1;31mTypeError\u001b[0m: 'numpy.float64' object is not iterable"
     ]
    }
   ],
   "source": [
    "moon_dense_data = {}\n",
    "moon_dense_alphas = {}\n",
    "moon_dense_aucs = []\n",
    "max_steps=10**6\n",
    "thresh=200\n",
    "\n",
    "for pairs in [(0, 1), (0, 3), (0, 5), (0, 7), (0, 9)]:\n",
    "    dar_fm_str = r'$dar_{' + '{}'.format(pairs[0] + 1) + '}^{' + '{}'.format(pairs[1] + 1) + '}$'\n",
    "    moon_dense_alphas[dar_fm_str] = 1/5\n",
    "    moon_dense_data[dar_fm_str] = load_dqn_data(\n",
    "        '*', 'experiments/featurized_results/moon/dar_orig_%d_%d' % (pairs[0], pairs[1]), max_steps=max_steps,\n",
    "        )\n",
    "    moon_dense_aucs.append([dar_fm_str, np.trapz((moon_dense_data[dar_fm_str][0][0] + 250) / 500,\n",
    "                                      x=(moon_dense_data[dar_fm_str][3][0]/max(\n",
    "                                          moon_dense_data[dar_fm_str][3][0])))])\n",
    "\n",
    "    \n",
    "moon_dense_data['dqn'] = load_dqn_data('*', 'experiments/featurized_results/moon/dqn', max_steps=max_steps,\n",
    "        )\n",
    "moon_dense_aucs.append(['dqn', np.trapz((moon_dense_data['dqn'][0][0] + 250) / 500,\n",
    "                                  x=(moon_dense_data['dqn'][3][0]/max(moon_dense_data['dqn'][3][0])))])\n",
    "\n",
    "\n",
    "for i in [2, 4, 6, 8, 10]:\n",
    "    moon_dense_data['tqn_%d' % i] = load_dqn_data('*', 'experiments/featurized_results/moon/tqn_%d' % i, max_steps=max_steps,\n",
    "            )\n",
    "    # compute normalized AUC\n",
    "    moon_dense_aucs.append(['tqn_%d' % i, np.trapz((moon_dense_data['tqn_%d' % i][0][0] + 250) / 500,\n",
    "                                      x=(moon_dense_data['tqn_%d' % i][3][0]/max(moon_dense_data['tqn_%d' % i][3][0])))])\n",
    "\n",
    "    moon_dense_data['t-dqn_%d' % i] = load_dqn_data('*', 'experiments/featurized_results/moon/t-dqn_%d' % i, max_steps=max_steps,\n",
    "            )\n",
    "    moon_dense_aucs.append(['t-dqn_%d' % i, np.trapz((moon_dense_data['t-dqn_%d' % i][0][0] + 250)/500,\n",
    "                                   x=(moon_dense_data['t-dqn_%d' % i][3][0]/max(moon_dense_data['t-dqn_%d' % i][3][0])))])\n",
    "\n",
    "    moon_dense_data['tdqn_%d' % i] = load_dqn_data('*', 'experiments/featurized_results/moon/tdqn_%d' % i, max_steps=max_steps,\n",
    "            )\n",
    "    moon_dense_aucs.append(['tdqn_%d' % i, np.trapz((moon_dense_data['tdqn_%d' % i][0][0] + 250)/500,\n",
    "                                   x=(moon_dense_data['tdqn_%d' % i][3][0]/max(moon_dense_data['tdqn_%d' % i][3][0])))])"
   ]
  },
  {
   "cell_type": "code",
   "execution_count": 5,
   "metadata": {},
   "outputs": [
    {
     "ename": "UnboundLocalError",
     "evalue": "local variable 'idx' referenced before assignment",
     "output_type": "error",
     "traceback": [
      "\u001b[1;31m---------------------------------------------------------------------------\u001b[0m",
      "\u001b[1;31mUnboundLocalError\u001b[0m                         Traceback (most recent call last)",
      "\u001b[1;32m<ipython-input-5-9f5001f6e10a>\u001b[0m in \u001b[0;36m<module>\u001b[1;34m\u001b[0m\n\u001b[1;32m----> 1\u001b[1;33m \u001b[0mmoon_plot\u001b[0m \u001b[1;33m=\u001b[0m \u001b[0mget_best_to_plot\u001b[0m\u001b[1;33m(\u001b[0m\u001b[0mmoon_dense_data\u001b[0m\u001b[1;33m,\u001b[0m \u001b[0mmoon_dense_aucs\u001b[0m\u001b[1;33m)\u001b[0m\u001b[1;33m\u001b[0m\u001b[1;33m\u001b[0m\u001b[0m\n\u001b[0m\u001b[0;32m      2\u001b[0m \u001b[1;33m\u001b[0m\u001b[0m\n\u001b[0;32m      3\u001b[0m plotMultiple(moon_plot, title='LunarLander-v2', ylim=[-250, 200], max_steps=1000, xlim=[10**3, 10**6],\n\u001b[0;32m      4\u001b[0m              smooth=11, savename='llv2-dense.pdf', rewyticks=[-250, 0, 200], lenyticks=[200, 500, 800])\n",
      "\u001b[1;32m<ipython-input-2-41d2346970e6>\u001b[0m in \u001b[0;36mget_best_to_plot\u001b[1;34m(data, aucs, tempoRL)\u001b[0m\n\u001b[0;32m    146\u001b[0m             \u001b[1;32mif\u001b[0m \u001b[1;34m't'\u001b[0m \u001b[1;32min\u001b[0m \u001b[0mauc\u001b[0m\u001b[1;33m[\u001b[0m\u001b[1;36m0\u001b[0m\u001b[1;33m]\u001b[0m\u001b[1;33m:\u001b[0m\u001b[1;33m\u001b[0m\u001b[1;33m\u001b[0m\u001b[0m\n\u001b[0;32m    147\u001b[0m                 \u001b[1;32mbreak\u001b[0m\u001b[1;33m\u001b[0m\u001b[1;33m\u001b[0m\u001b[0m\n\u001b[1;32m--> 148\u001b[1;33m         \u001b[0mto_plot\u001b[0m\u001b[1;33m[\u001b[0m\u001b[0maucs\u001b[0m\u001b[1;33m[\u001b[0m\u001b[0midx\u001b[0m\u001b[1;33m]\u001b[0m\u001b[1;33m[\u001b[0m\u001b[1;36m0\u001b[0m\u001b[1;33m]\u001b[0m\u001b[1;33m]\u001b[0m \u001b[1;33m=\u001b[0m \u001b[0mdata\u001b[0m\u001b[1;33m[\u001b[0m\u001b[0maucs\u001b[0m\u001b[1;33m[\u001b[0m\u001b[0midx\u001b[0m\u001b[1;33m]\u001b[0m\u001b[1;33m[\u001b[0m\u001b[1;36m0\u001b[0m\u001b[1;33m]\u001b[0m\u001b[1;33m]\u001b[0m  \u001b[1;31m# the absolute best\u001b[0m\u001b[1;33m\u001b[0m\u001b[1;33m\u001b[0m\u001b[0m\n\u001b[0m\u001b[0;32m    149\u001b[0m     \u001b[1;32melse\u001b[0m\u001b[1;33m:\u001b[0m\u001b[1;33m\u001b[0m\u001b[1;33m\u001b[0m\u001b[0m\n\u001b[0;32m    150\u001b[0m         \u001b[0mto_plot\u001b[0m\u001b[1;33m[\u001b[0m\u001b[0mtempoRL\u001b[0m\u001b[1;33m]\u001b[0m \u001b[1;33m=\u001b[0m \u001b[0mdata\u001b[0m\u001b[1;33m[\u001b[0m\u001b[0mtempoRL\u001b[0m\u001b[1;33m]\u001b[0m\u001b[1;33m\u001b[0m\u001b[1;33m\u001b[0m\u001b[0m\n",
      "\u001b[1;31mUnboundLocalError\u001b[0m: local variable 'idx' referenced before assignment"
     ]
    }
   ],
   "source": [
    "moon_plot = get_best_to_plot(moon_dense_data, moon_dense_aucs)\n",
    "\n",
    "plotMultiple(moon_plot, title='LunarLander-v2', ylim=[-250, 200], max_steps=1000, xlim=[10**3, 10**6],\n",
    "             smooth=11, savename='llv2-dense.pdf', rewyticks=[-250, 0, 200], lenyticks=[200, 500, 800])"
   ]
  },
  {
   "cell_type": "code",
   "execution_count": 6,
   "metadata": {},
   "outputs": [
    {
     "data": {
      "text/plain": [
       "[]"
      ]
     },
     "execution_count": 6,
     "metadata": {},
     "output_type": "execute_result"
    }
   ],
   "source": [
    "list(sorted(moon_dense_aucs, key=lambda x: x[1], reverse=True))"
   ]
  }
 ],
 "metadata": {
  "kernelspec": {
   "display_name": "Python 3",
   "language": "python",
   "name": "python3"
  },
  "language_info": {
   "codemirror_mode": {
    "name": "ipython",
    "version": 3
   },
   "file_extension": ".py",
   "mimetype": "text/x-python",
   "name": "python",
   "nbconvert_exporter": "python",
   "pygments_lexer": "ipython3",
   "version": "3.8.5"
  }
 },
 "nbformat": 4,
 "nbformat_minor": 4
}
